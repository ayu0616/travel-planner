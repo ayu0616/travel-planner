{
 "cells": [
  {
   "cell_type": "markdown",
   "metadata": {},
   "source": [
    "# ビジュアライザに投げる用のデータを作成するファイル"
   ]
  },
  {
   "cell_type": "code",
   "execution_count": 18,
   "metadata": {},
   "outputs": [],
   "source": [
    "from gmap import GMap\n",
    "import os\n",
    "from dotenv import load_dotenv\n",
    "import random"
   ]
  },
  {
   "cell_type": "code",
   "execution_count": 19,
   "metadata": {},
   "outputs": [
    {
     "data": {
      "text/plain": [
       "True"
      ]
     },
     "execution_count": 19,
     "metadata": {},
     "output_type": "execute_result"
    }
   ],
   "source": [
    "load_dotenv(\"../.env\")"
   ]
  },
  {
   "cell_type": "code",
   "execution_count": 20,
   "metadata": {},
   "outputs": [],
   "source": [
    "spots = [\n",
    "    \"京都駅\",\n",
    "    \"下鴨神社\",\n",
    "    \"上賀茂神社\",\n",
    "    \"二条城\",\n",
    "    \"清水寺\",\n",
    "    \"伏見稲荷大社\",\n",
    "    \"金閣寺\"\n",
    "]"
   ]
  },
  {
   "cell_type": "code",
   "execution_count": 21,
   "metadata": {},
   "outputs": [],
   "source": [
    "gmap = GMap(os.getenv(\"GOOGLE_MAPS_API_KEY\"))"
   ]
  },
  {
   "cell_type": "code",
   "execution_count": 22,
   "metadata": {},
   "outputs": [],
   "source": [
    "d_matrix=gmap.distance_matrix(spots, spots)"
   ]
  },
  {
   "cell_type": "code",
   "execution_count": 23,
   "metadata": {},
   "outputs": [],
   "source": [
    "locations = list(map(gmap.get_location, spots))\n"
   ]
  },
  {
   "cell_type": "code",
   "execution_count": 32,
   "metadata": {},
   "outputs": [],
   "source": [
    "n = len(spots)\n",
    "lines: list[list[int]] = []\n",
    "for i in range(n):\n",
    "    line = [-1]*6\n",
    "    line[0] = -1\n",
    "    line[1] = -1\n",
    "    line[2] = random.randint(15 // 5, 90 // 5) * 5 * 60\n",
    "    line[3] = random.randint(1,3)\n",
    "    line[4] = locations[i]['lat']\n",
    "    line[5] = locations[i]['lng']\n",
    "    lines.append(line)\n",
    "\n",
    "lines[0][0] = n*60*60*4//3"
   ]
  },
  {
   "cell_type": "code",
   "execution_count": 33,
   "metadata": {},
   "outputs": [
    {
     "name": "stdout",
     "output_type": "stream",
     "text": [
      "7\n",
      "0 4995 7250 3049 2619 2403 6531\n",
      "4835 0 2646 3266 4452 6364 3391\n",
      "6934 2515 0 4313 7133 9020 3027\n",
      "2998 3364 4574 0 4050 5628 3757\n",
      "2293 4292 7124 3792 0 3183 7320\n",
      "2381 6552 9352 5689 3355 0 9190\n",
      "6167 3189 2965 3440 7268 8828 0\n",
      "33600 -1 3000 2 34.985849 135.7587667\n",
      "-1 -1 3000 1 35.0389778 135.7730068\n",
      "-1 -1 4500 1 35.0592809 135.7525297\n",
      "-1 -1 5100 2 35.0140379 135.7484258\n",
      "-1 -1 3900 1 34.9946662 135.784661\n",
      "-1 -1 3600 2 34.9676945 135.7791876\n",
      "-1 -1 4200 1 35.03937 135.7292431\n"
     ]
    }
   ],
   "source": [
    "print(n)\n",
    "for d_row in d_matrix:\n",
    "    print(*d_row)\n",
    "for line in lines:\n",
    "    print(*line)"
   ]
  },
  {
   "cell_type": "code",
   "execution_count": null,
   "metadata": {},
   "outputs": [],
   "source": []
  }
 ],
 "metadata": {
  "kernelspec": {
   "display_name": "Python 3",
   "language": "python",
   "name": "python3"
  },
  "language_info": {
   "codemirror_mode": {
    "name": "ipython",
    "version": 3
   },
   "file_extension": ".py",
   "mimetype": "text/x-python",
   "name": "python",
   "nbconvert_exporter": "python",
   "pygments_lexer": "ipython3",
   "version": "3.10.13"
  }
 },
 "nbformat": 4,
 "nbformat_minor": 2
}
