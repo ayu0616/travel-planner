{
 "cells": [
  {
   "cell_type": "code",
   "execution_count": 46,
   "metadata": {},
   "outputs": [],
   "source": [
    "import pandas as pd\n",
    "import io\n",
    "from gmap import GMap\n",
    "import dotenv\n",
    "import os\n",
    "import datetime\n",
    "import pickle\n",
    "import subprocess\n",
    "import pyperclip"
   ]
  },
  {
   "cell_type": "markdown",
   "metadata": {},
   "source": [
    "## データの生成\n",
    "\n",
    "生成済みのデータが存在する場合はスキップする\n"
   ]
  },
  {
   "cell_type": "code",
   "execution_count": 10,
   "metadata": {},
   "outputs": [],
   "source": [
    "csv = \"\"\"\n",
    "京都駅, 0, 0\n",
    "音羽山清水寺, 30, 3\n",
    "伏見稲荷大社, 45, 3\n",
    "金閣寺, 30, 3\n",
    "二条城, 30, 3\n",
    "八坂神社, 15, 1\n",
    "銀閣寺, 30, 2\n",
    "錦市場, 30, 3\n",
    "京都御所, 15, 1\n",
    "下鴨神社, 20, 2\n",
    "上賀茂神社, 20, 2\n",
    "東寺, 30, 2\n",
    "三十三間堂, 20, 2\n",
    "八坂庚申堂, 10, 2\n",
    "安井金比羅宮, 20, 2\n",
    "南禅寺, 30, 3\n",
    "龍安寺, 30, 3\n",
    "仁和寺, 20, 1\n",
    "北野天満宮, 20, 2\n",
    "京都水族館, 90, 3\n",
    "京都タワー, 30, 2\n",
    "京都国立博物館, 90, 2\n",
    "京都鉄道博物館, 90, 2\n",
    "西本願寺, 30, 2\n",
    "六波羅蜜寺, 30, 1\n",
    "京都大学中央食堂, 30, 100\n",
    "\"\"\".strip()\n",
    "data = pd.read_csv(io.StringIO(csv), header=None, names=[\n",
    "                   'spot', 'stay_time', 'priority'])"
   ]
  },
  {
   "cell_type": "code",
   "execution_count": 11,
   "metadata": {},
   "outputs": [],
   "source": [
    "START_TIME = 9*60*60"
   ]
  },
  {
   "cell_type": "code",
   "execution_count": 12,
   "metadata": {},
   "outputs": [],
   "source": [
    "data[\"arrive_before\"] = -1\n",
    "data[\"arrive_after\"] = -1\n",
    "data[\"stay_time\"] = data[\"stay_time\"] * 60"
   ]
  },
  {
   "cell_type": "code",
   "execution_count": 13,
   "metadata": {},
   "outputs": [],
   "source": [
    "dotenv.load_dotenv()\n",
    "GOOGLE_MAPS_API_KEY = os.getenv(\"GOOGLE_MAPS_API_KEY\")\n",
    "if not GOOGLE_MAPS_API_KEY:\n",
    "    raise Exception(\"GOOGLE_MAPS_API_KEY not found\")\n",
    "gmap = GMap(GOOGLE_MAPS_API_KEY)"
   ]
  },
  {
   "cell_type": "code",
   "execution_count": 14,
   "metadata": {},
   "outputs": [],
   "source": [
    "spots = data[\"spot\"].tolist()\n",
    "n = len(spots)\n",
    "d_matrix = [[0] * n for _ in range(n)]\n",
    "\n",
    "for i in range(0, n + 1, 10):\n",
    "    for j in range(0, n + 1, 10):\n",
    "        i_end = min(i + 10, n)\n",
    "        j_end = min(j + 10, n)\n",
    "        tmp = gmap.distance_matrix(spots[i:i_end], spots[j:j_end])\n",
    "        for k in range(i, i_end):\n",
    "            for l in range(j, j_end):\n",
    "                d_matrix[k][l] = tmp[k - i][l - j]"
   ]
  },
  {
   "cell_type": "code",
   "execution_count": 15,
   "metadata": {},
   "outputs": [],
   "source": [
    "for spot in spots:\n",
    "    location = gmap.get_location(spot)\n",
    "    business_time = gmap.get_business_time(spot, datetime.datetime(2024, 1, 14))\n",
    "    data.loc[data[\"spot\"] == spot, \"latitude\"] = location[\"lat\"]\n",
    "    data.loc[data[\"spot\"] == spot, \"longitude\"] = location[\"lng\"]\n",
    "    b_start, b_end = business_time\n",
    "    if b_start is not None:\n",
    "        hour = int(b_start[:2])\n",
    "        minute = int(b_start[2:])\n",
    "        start_sec = hour * 60 * 60 + minute * 60\n",
    "        data.loc[data[\"spot\"] == spot, \"arrive_after\"] = max(-1, start_sec - START_TIME)\n",
    "    if b_end is not None:\n",
    "        hour = int(b_end[:2])\n",
    "        minute = int(b_end[2:])\n",
    "        end_sec = hour * 60 * 60 + minute * 60\n",
    "        data.loc[data[\"spot\"] == spot, \"arrive_before\"] = end_sec - START_TIME"
   ]
  },
  {
   "cell_type": "code",
   "execution_count": 16,
   "metadata": {},
   "outputs": [],
   "source": [
    "data.loc[data[\"spot\"] == \"京都駅\", \"arrive_before\"] = 18 * 60 * 60 - START_TIME\n",
    "data.loc[data[\"spot\"] == \"京都大学中央食堂\",\n",
    "         \"arrive_before\"] = 13 * 60 * 60 - START_TIME\n",
    "data.loc[data[\"spot\"] == \"京都大学中央食堂\",\n",
    "         \"arrive_after\"] = 12 * 60 * 60 - START_TIME"
   ]
  },
  {
   "cell_type": "code",
   "execution_count": 17,
   "metadata": {},
   "outputs": [],
   "source": [
    "data.to_pickle(\"data.pkl\")\n",
    "pickle.dump(d_matrix, open(\"d_matrix.pkl\", \"wb\"))"
   ]
  },
  {
   "cell_type": "markdown",
   "metadata": {},
   "source": [
    "## データの読み込み"
   ]
  },
  {
   "cell_type": "code",
   "execution_count": 18,
   "metadata": {},
   "outputs": [],
   "source": [
    "data = pd.read_pickle('data.pkl')\n",
    "d_matrix = pickle.load(open(\"d_matrix.pkl\", \"rb\"))"
   ]
  },
  {
   "cell_type": "markdown",
   "metadata": {},
   "source": [
    "## 実行してみる"
   ]
  },
  {
   "cell_type": "code",
   "execution_count": 19,
   "metadata": {},
   "outputs": [],
   "source": [
    "input_lines = []\n",
    "\n",
    "n = len(data)\n",
    "input_lines.append(str(n))\n",
    "\n",
    "for i in range(n):\n",
    "    row = d_matrix[i]\n",
    "    input_lines.append(\" \".join(map(str, row)))\n",
    "\n",
    "for i in range(n):\n",
    "    row = data.iloc[i]\n",
    "    ab = str(row[\"arrive_before\"])\n",
    "    aa = str(row[\"arrive_after\"])\n",
    "    st = str(row[\"stay_time\"])\n",
    "    pr = str(row[\"priority\"])\n",
    "    input_lines.append(\" \".join([ab, aa, st, pr]))\n",
    "\n",
    "input_text = \"\\n\".join(input_lines)"
   ]
  },
  {
   "cell_type": "code",
   "execution_count": 65,
   "metadata": {},
   "outputs": [],
   "source": [
    "res = subprocess.run([\"../dist/sa\"], input=input_text, capture_output=True, text=True)"
   ]
  },
  {
   "cell_type": "code",
   "execution_count": 66,
   "metadata": {},
   "outputs": [],
   "source": [
    "path_str = res.stdout.strip().split(\"\\n\")[-1]\n",
    "path = list(map(int, path_str.split(\" \")))"
   ]
  },
  {
   "cell_type": "code",
   "execution_count": 67,
   "metadata": {},
   "outputs": [
    {
     "name": "stdout",
     "output_type": "stream",
     "text": [
      "京都駅 09:00\n",
      "三十三間堂 09:20 -> 09:40\n",
      "音羽山清水寺 10:05 -> 10:35\n",
      "八坂庚申堂 10:44 -> 10:54\n",
      "安井金比羅宮 10:58 -> 11:18\n",
      "八坂神社 11:27 -> 11:42\n",
      "京都大学中央食堂 12:23 -> 12:53\n",
      "下鴨神社 13:15 -> 13:35\n",
      "京都御所 13:51 -> 14:06\n",
      "錦市場 14:26 -> 14:56\n",
      "二条城 15:23 -> 15:53\n",
      "西本願寺 16:34 -> 17:04\n",
      "京都タワー 17:23 -> 17:53\n",
      "京都駅 17:54"
     ]
    }
   ],
   "source": [
    "current_time = datetime.datetime(2024, 1, 14, 0, 0, 0) + datetime.timedelta(seconds=START_TIME)\n",
    "m = len(path)\n",
    "for i in range(m):\n",
    "    p = path[i]\n",
    "    print(data.iloc[p][\"spot\"], current_time.strftime(\"%H:%M\"), end=\"\")\n",
    "    if i<m-1:\n",
    "        current_time += datetime.timedelta(seconds=int(data.iloc[p][\"stay_time\"]))\n",
    "        if i>=1:\n",
    "            print(\" -> \", end=\"\")\n",
    "            print(current_time.strftime(\"%H:%M\"))\n",
    "        else:\n",
    "            print()\n",
    "        current_time += datetime.timedelta(seconds=d_matrix[p][path[i + 1]])"
   ]
  },
  {
   "cell_type": "code",
   "execution_count": 68,
   "metadata": {},
   "outputs": [
    {
     "name": "stdout",
     "output_type": "stream",
     "text": [
      "34.985849 135.7587667 0\n",
      "34.9946662 135.784661 3\n",
      "34.9676945 135.7791876 3\n",
      "35.03937 135.7292431 3\n",
      "35.0140379 135.7484258 3\n",
      "35.0036559 135.7785534 1\n",
      "35.0270213 135.7982058 2\n",
      "35.0050258 135.764723 3\n",
      "35.0259202 135.7616454 1\n",
      "35.0389778 135.7730068 2\n",
      "35.0592809 135.7525297 2\n",
      "34.9805982 135.747786 2\n",
      "34.9878845 135.7717126 2\n",
      "34.9983244 135.7787304 2\n",
      "35.0001126 135.7758058 2\n",
      "35.0114138 135.7944841 3\n",
      "35.0344943 135.7182634 3\n",
      "35.03109370000001 135.7138198 1\n",
      "35.0311737 135.7351227 2\n",
      "34.987516 135.7472123 3\n",
      "34.9875205 135.7592518 2\n",
      "34.9899887 135.773116 2\n",
      "34.9870986 135.7422732 2\n",
      "34.99177700000001 135.7516549 2\n",
      "34.9970888 135.7733663 1\n",
      "35.0266577 135.7818152 100\n",
      "\n",
      "0 12 1 13 14 5 25 9 8 7 4 23 20 0\n"
     ]
    }
   ],
   "source": [
    "visualizer_input_lines = []\n",
    "visualizer_output_lines = []\n",
    "\n",
    "for i in range(n):\n",
    "    row = data.iloc[i]\n",
    "    lat = str(row[\"latitude\"])\n",
    "    lng = str(row[\"longitude\"])\n",
    "    pr = str(row[\"priority\"])\n",
    "    visualizer_input_lines.append(\" \".join([lat, lng, pr]))\n",
    "\n",
    "visualizer_output_lines.append(path_str)\n",
    "\n",
    "visualizer_input_text = \"\\n\".join(visualizer_input_lines)\n",
    "visualizer_output_text = \"\\n\".join(visualizer_output_lines)\n",
    "\n",
    "print(visualizer_input_text)\n",
    "print()\n",
    "print(visualizer_output_text)"
   ]
  },
  {
   "cell_type": "code",
   "execution_count": 69,
   "metadata": {},
   "outputs": [],
   "source": [
    "path_history = []\n",
    "prev = \"\"\n",
    "for p in res.stdout.strip().split(\"\\n\")[:-2]:\n",
    "    if p != prev:\n",
    "        path_history.append(p)\n",
    "        prev = p\n",
    "        \n",
    "pyperclip.copy(\"\\n\".join(path_history))"
   ]
  },
  {
   "cell_type": "code",
   "execution_count": null,
   "metadata": {},
   "outputs": [],
   "source": []
  }
 ],
 "metadata": {
  "kernelspec": {
   "display_name": "Python 3",
   "language": "python",
   "name": "python3"
  },
  "language_info": {
   "codemirror_mode": {
    "name": "ipython",
    "version": 3
   },
   "file_extension": ".py",
   "mimetype": "text/x-python",
   "name": "python",
   "nbconvert_exporter": "python",
   "pygments_lexer": "ipython3",
   "version": "3.10.13"
  }
 },
 "nbformat": 4,
 "nbformat_minor": 2
}
