{
 "cells": [
  {
   "cell_type": "markdown",
   "metadata": {},
   "source": [
    "# 概要\n",
    "\n",
    "これは落書き用のノートブックです\n",
    "\n",
    "# 使い方\n",
    "\n",
    "-   試したいことをこのノートブックに書く\n",
    "-   残しておきたいことはこのブックからコピーして別ファイルを作成する\n"
   ]
  },
  {
   "cell_type": "markdown",
   "metadata": {},
   "source": [
    "# GoogleMaps の API 使ってみた\n",
    "\n",
    "-   場所の詳細情報をゲットするには`gmap.palces`で`place_id`を手に入れてから、`gmap.place`に`place_id`を渡す\n"
   ]
  },
  {
   "cell_type": "code",
   "execution_count": 3,
   "metadata": {},
   "outputs": [
    {
     "name": "stdout",
     "output_type": "stream",
     "text": [
      "\u001b[33mWARNING: Ignoring invalid distribution -ip (/opt/homebrew/lib/python3.10/site-packages)\u001b[0m\u001b[33m\n",
      "\u001b[0mCollecting googlemaps\n",
      "  Using cached googlemaps-4.10.0.tar.gz (33 kB)\n",
      "  Installing build dependencies ... \u001b[?25ldone\n",
      "\u001b[?25h  Getting requirements to build wheel ... \u001b[?25ldone\n",
      "\u001b[?25h  Installing backend dependencies ... \u001b[?25ldone\n",
      "\u001b[?25h  Preparing metadata (pyproject.toml) ... \u001b[?25ldone\n",
      "\u001b[?25hRequirement already satisfied: requests<3.0,>=2.20.0 in /opt/homebrew/lib/python3.10/site-packages (from googlemaps) (2.26.0)\n",
      "Requirement already satisfied: urllib3<1.27,>=1.21.1 in /opt/homebrew/lib/python3.10/site-packages (from requests<3.0,>=2.20.0->googlemaps) (1.26.7)\n",
      "Requirement already satisfied: certifi>=2017.4.17 in /opt/homebrew/lib/python3.10/site-packages (from requests<3.0,>=2.20.0->googlemaps) (2022.12.7)\n",
      "Requirement already satisfied: charset-normalizer~=2.0.0 in /opt/homebrew/lib/python3.10/site-packages (from requests<3.0,>=2.20.0->googlemaps) (2.0.12)\n",
      "Requirement already satisfied: idna<4,>=2.5 in /opt/homebrew/lib/python3.10/site-packages (from requests<3.0,>=2.20.0->googlemaps) (3.4)\n",
      "Building wheels for collected packages: googlemaps\n",
      "  Building wheel for googlemaps (pyproject.toml) ... \u001b[?25ldone\n",
      "\u001b[?25h  Created wheel for googlemaps: filename=googlemaps-4.10.0-py3-none-any.whl size=40713 sha256=248f5a17e30e1c6e73415d62188317796db8ef644843da808c28c1572ec811c2\n",
      "  Stored in directory: /Users/OgawaAyumu/Library/Caches/pip/wheels/17/f8/79/999d5d37118fd35d7219ef57933eb9d09886c4c4503a800f84\n",
      "Successfully built googlemaps\n",
      "\u001b[33mWARNING: Ignoring invalid distribution -ip (/opt/homebrew/lib/python3.10/site-packages)\u001b[0m\u001b[33m\n",
      "\u001b[0mInstalling collected packages: googlemaps\n",
      "Successfully installed googlemaps-4.10.0\n"
     ]
    }
   ],
   "source": [
    "!pip install --use-pep517 googlemaps"
   ]
  },
  {
   "cell_type": "code",
   "execution_count": 1,
   "metadata": {},
   "outputs": [
    {
     "name": "stderr",
     "output_type": "stream",
     "text": [
      "/opt/homebrew/lib/python3.10/site-packages/requests/__init__.py:102: RequestsDependencyWarning: urllib3 (1.26.7) or chardet (5.1.0)/charset_normalizer (2.0.12) doesn't match a supported version!\n",
      "  warnings.warn(\"urllib3 ({}) or chardet ({})/charset_normalizer ({}) doesn't match a supported \"\n"
     ]
    }
   ],
   "source": [
    "import googlemaps\n",
    "import dotenv\n",
    "import os\n",
    "import subprocess\n",
    "import pandas as pd"
   ]
  },
  {
   "cell_type": "code",
   "execution_count": 2,
   "metadata": {},
   "outputs": [
    {
     "data": {
      "text/plain": [
       "True"
      ]
     },
     "execution_count": 2,
     "metadata": {},
     "output_type": "execute_result"
    }
   ],
   "source": [
    "dotenv.load_dotenv()"
   ]
  },
  {
   "cell_type": "code",
   "execution_count": 3,
   "metadata": {},
   "outputs": [],
   "source": [
    "GOOGLE_MAPS_API_KEY = os.getenv(\"GOOGLE_MAPS_API_KEY\")\n",
    "if not GOOGLE_MAPS_API_KEY:\n",
    "    raise Exception(\"GOOGLE_MAPS_API_KEY not found\")"
   ]
  },
  {
   "cell_type": "code",
   "execution_count": 4,
   "metadata": {},
   "outputs": [],
   "source": [
    "gmap = googlemaps.Client(key=GOOGLE_MAPS_API_KEY)"
   ]
  },
  {
   "cell_type": "code",
   "execution_count": 5,
   "metadata": {},
   "outputs": [],
   "source": [
    "res = gmap.places(\"慈照寺\")"
   ]
  },
  {
   "cell_type": "code",
   "execution_count": 6,
   "metadata": {},
   "outputs": [
    {
     "data": {
      "text/plain": [
       "'ChIJ4W9CCwUJAWARyauI6BzKiiU'"
      ]
     },
     "execution_count": 6,
     "metadata": {},
     "output_type": "execute_result"
    }
   ],
   "source": [
    "res[\"results\"][0][\"place_id\"]"
   ]
  },
  {
   "cell_type": "code",
   "execution_count": 7,
   "metadata": {},
   "outputs": [],
   "source": [
    "res1 = gmap.place(res[\"results\"][0][\"place_id\"])"
   ]
  },
  {
   "cell_type": "code",
   "execution_count": 8,
   "metadata": {},
   "outputs": [
    {
     "data": {
      "text/plain": [
       "{'address_components': [{'long_name': '2',\n",
       "   'short_name': '2',\n",
       "   'types': ['premise']},\n",
       "  {'long_name': 'Ginkakujichō',\n",
       "   'short_name': 'Ginkakujichō',\n",
       "   'types': ['sublocality_level_2', 'sublocality', 'political']},\n",
       "  {'long_name': 'Sakyo Ward',\n",
       "   'short_name': 'Sakyo Ward',\n",
       "   'types': ['sublocality_level_1', 'sublocality', 'political']},\n",
       "  {'long_name': 'Kyoto',\n",
       "   'short_name': 'Kyoto',\n",
       "   'types': ['locality', 'political']},\n",
       "  {'long_name': 'Kyoto',\n",
       "   'short_name': 'Kyoto',\n",
       "   'types': ['administrative_area_level_1', 'political']},\n",
       "  {'long_name': 'Japan',\n",
       "   'short_name': 'JP',\n",
       "   'types': ['country', 'political']},\n",
       "  {'long_name': '606-8402',\n",
       "   'short_name': '606-8402',\n",
       "   'types': ['postal_code']}],\n",
       " 'adr_address': '<span class=\"street-address\">2 Ginkakujichō, Sakyo Ward, Kyoto</span>, <span class=\"postal-code\">606-8402</span>, <span class=\"country-name\">Japan</span>',\n",
       " 'business_status': 'OPERATIONAL',\n",
       " 'current_opening_hours': {'open_now': True,\n",
       "  'periods': [{'close': {'date': '2023-10-29', 'day': 0, 'time': '1700'},\n",
       "    'open': {'date': '2023-10-29', 'day': 0, 'time': '0830'}},\n",
       "   {'close': {'date': '2023-10-30', 'day': 1, 'time': '1700'},\n",
       "    'open': {'date': '2023-10-30', 'day': 1, 'time': '0830'}},\n",
       "   {'close': {'date': '2023-10-31', 'day': 2, 'time': '1700'},\n",
       "    'open': {'date': '2023-10-31', 'day': 2, 'time': '0830'}},\n",
       "   {'close': {'date': '2023-10-25', 'day': 3, 'time': '1700'},\n",
       "    'open': {'date': '2023-10-25', 'day': 3, 'time': '0830'}},\n",
       "   {'close': {'date': '2023-10-26', 'day': 4, 'time': '1700'},\n",
       "    'open': {'date': '2023-10-26', 'day': 4, 'time': '0830'}},\n",
       "   {'close': {'date': '2023-10-27', 'day': 5, 'time': '1700'},\n",
       "    'open': {'date': '2023-10-27', 'day': 5, 'time': '0830'}},\n",
       "   {'close': {'date': '2023-10-28', 'day': 6, 'time': '1700'},\n",
       "    'open': {'date': '2023-10-28', 'day': 6, 'time': '0830'}}],\n",
       "  'weekday_text': ['Monday: 8:30\\u202fAM\\u2009–\\u20095:00\\u202fPM',\n",
       "   'Tuesday: 8:30\\u202fAM\\u2009–\\u20095:00\\u202fPM',\n",
       "   'Wednesday: 8:30\\u202fAM\\u2009–\\u20095:00\\u202fPM',\n",
       "   'Thursday: 8:30\\u202fAM\\u2009–\\u20095:00\\u202fPM',\n",
       "   'Friday: 8:30\\u202fAM\\u2009–\\u20095:00\\u202fPM',\n",
       "   'Saturday: 8:30\\u202fAM\\u2009–\\u20095:00\\u202fPM',\n",
       "   'Sunday: 8:30\\u202fAM\\u2009–\\u20095:00\\u202fPM']},\n",
       " 'editorial_summary': {'language': 'en',\n",
       "  'overview': 'This 15th-century Zen temple features picturesque gardens & a sand mound shaped like Mount Fuji.'},\n",
       " 'formatted_address': '2 Ginkakujichō, Sakyo Ward, Kyoto, 606-8402, Japan',\n",
       " 'formatted_phone_number': '075-771-5725',\n",
       " 'geometry': {'location': {'lat': 35.0270213, 'lng': 135.7982058},\n",
       "  'viewport': {'northeast': {'lat': 35.0284399302915,\n",
       "    'lng': 135.7991004802915},\n",
       "   'southwest': {'lat': 35.0257419697085, 'lng': 135.7964025197085}}},\n",
       " 'icon': 'https://maps.gstatic.com/mapfiles/place_api/icons/v1/png_71/worship_dharma-71.png',\n",
       " 'icon_background_color': '#7B9EB0',\n",
       " 'icon_mask_base_uri': 'https://maps.gstatic.com/mapfiles/place_api/icons/v2/generic_pinlet',\n",
       " 'international_phone_number': '+81 75-771-5725',\n",
       " 'name': 'Higashiyama Jisho-ji',\n",
       " 'opening_hours': {'open_now': True,\n",
       "  'periods': [{'close': {'day': 0, 'time': '1700'},\n",
       "    'open': {'day': 0, 'time': '0830'}},\n",
       "   {'close': {'day': 1, 'time': '1700'}, 'open': {'day': 1, 'time': '0830'}},\n",
       "   {'close': {'day': 2, 'time': '1700'}, 'open': {'day': 2, 'time': '0830'}},\n",
       "   {'close': {'day': 3, 'time': '1700'}, 'open': {'day': 3, 'time': '0830'}},\n",
       "   {'close': {'day': 4, 'time': '1700'}, 'open': {'day': 4, 'time': '0830'}},\n",
       "   {'close': {'day': 5, 'time': '1700'}, 'open': {'day': 5, 'time': '0830'}},\n",
       "   {'close': {'day': 6, 'time': '1700'}, 'open': {'day': 6, 'time': '0830'}}],\n",
       "  'weekday_text': ['Monday: 8:30\\u202fAM\\u2009–\\u20095:00\\u202fPM',\n",
       "   'Tuesday: 8:30\\u202fAM\\u2009–\\u20095:00\\u202fPM',\n",
       "   'Wednesday: 8:30\\u202fAM\\u2009–\\u20095:00\\u202fPM',\n",
       "   'Thursday: 8:30\\u202fAM\\u2009–\\u20095:00\\u202fPM',\n",
       "   'Friday: 8:30\\u202fAM\\u2009–\\u20095:00\\u202fPM',\n",
       "   'Saturday: 8:30\\u202fAM\\u2009–\\u20095:00\\u202fPM',\n",
       "   'Sunday: 8:30\\u202fAM\\u2009–\\u20095:00\\u202fPM']},\n",
       " 'photos': [{'height': 3024,\n",
       "   'html_attributions': ['<a href=\"https://maps.google.com/maps/contrib/103137019633177730408\">Gyoupon</a>'],\n",
       "   'photo_reference': 'AcJnMuGEgPjnAxrp4Zx64IRBKnS7mIyBH61rw9nVEKONOBULuuMN_pk4tSAfxUHyKckJT_3U754GX0aeqCDC68--oqVM05fTsLNfcAvFJfVzXb-LdIOkMhhj6VSZuBgGONQRp5cByy2YHCEN1YSkkMFhbNuIybKCRNbdwAwudBW1tN7VrLX1',\n",
       "   'width': 4032},\n",
       "  {'height': 3000,\n",
       "   'html_attributions': ['<a href=\"https://maps.google.com/maps/contrib/114709437760824110649\">Jake Zoucha</a>'],\n",
       "   'photo_reference': 'AcJnMuFgdN-qTgd_vo244xhgomb-oe3kXmjobLEwVR_bxrWrfJ7Z68SdiDWR2MMgPJPVld9NUIJTIi-hX3-rLptjmcY6jnhJgLUpPLI_xm5-AS2x9BJvHtQDmRJj2N_jQ9w2BCBQIRBo1ehDs3KVrYszm4s0brbITz1uutlN_4S1tkl1irAp',\n",
       "   'width': 4000},\n",
       "  {'height': 2304,\n",
       "   'html_attributions': ['<a href=\"https://maps.google.com/maps/contrib/112161464324098132449\">Pif Gadget</a>'],\n",
       "   'photo_reference': 'AcJnMuHGD56GaktFyOo6P-F3J2n7M2y4SAfrJONKXy5_6IeQhN_xfBgIRZh-hWkfqnzRiXcZHUcCOBBYHVAX2PV0zzroZz6VtTZ3JSwbAxpUyTUGz-Ke4Yopp00t-g1KPKro8TRLM5GZ5bZfWu0zMiKlultSY70Q-1kAVBwiCaEApjyr9L-J',\n",
       "   'width': 3456},\n",
       "  {'height': 4000,\n",
       "   'html_attributions': ['<a href=\"https://maps.google.com/maps/contrib/110111618024117946816\">軍畑先輩</a>'],\n",
       "   'photo_reference': 'AcJnMuED2q0InXoldIUwVoQdHJaZhdAe4j2B6IAIiMfqhMzd6L_magSrwiQR749QEJiGNt8AeHHI9L_VGsfIyEaImWB6BsEeECQnUtYu9pJZ8SFGp3G7p2x22sArSs6wrJ9Ckzxbb3uX76LSe9OmidT0-xY0fCpQ9yKnfYJZAmAjloV19ERE',\n",
       "   'width': 6000},\n",
       "  {'height': 408,\n",
       "   'html_attributions': ['<a href=\"https://maps.google.com/maps/contrib/109944547308787941937\">Maurício Pereira Da Silva Moura</a>'],\n",
       "   'photo_reference': 'AcJnMuHZklCZvl04bk7MudR5bUmhlfcQQBua_Sb4yqYLaBmu1S9_ClfLaKzInHSygOXHyNvhXhq_mOTZrog7eByKBXgTHSH0XnBWvRtf0YqZRg4dy2yJxU4D0HKBs8cr7hr_LKuYbDFSzXsKhmnkCWEE3PKWwUnNIH1egyNVIamzk0OfvDnK',\n",
       "   'width': 612},\n",
       "  {'height': 6944,\n",
       "   'html_attributions': ['<a href=\"https://maps.google.com/maps/contrib/102484091091854877409\">Vu Nguyen</a>'],\n",
       "   'photo_reference': 'AcJnMuG4QiJFdWqLyS_Y6I0yG6zDHhYjoRFvyOtokaS2vSEFFlk_rI7xQ06OcZ9CryTc0nCkRb68reEFI5_B-MCvyFkApBVPb7rakIg1nWXotD-OiFWMLAnlVFJ02LFjZiTUfgZFT2OfsTAmRuNa8ac6UHURtW_wSBo3I19LPbZ9HOMLPBSC',\n",
       "   'width': 9280},\n",
       "  {'height': 2448,\n",
       "   'html_attributions': ['<a href=\"https://maps.google.com/maps/contrib/111513329371077560331\">橘宏和</a>'],\n",
       "   'photo_reference': 'AcJnMuHx3TPW0IrKS8lsknizq3TJjo8iE64sJbm6ZqOa-tatlyJm-BZxzGBWvLE3vUDW9MGpN2QwfiO9Bqg2SzvPRc75HK8L3qjmRGDno10reBQy3hygG2fBSytMEzbWb3YmfXoJe2TflZyBcId2kVnPQ-dP-nOnOLkz-Y6YM6r_mQYEnIfk',\n",
       "   'width': 3264},\n",
       "  {'height': 3024,\n",
       "   'html_attributions': ['<a href=\"https://maps.google.com/maps/contrib/107567119966385605014\">Tohru Miyake</a>'],\n",
       "   'photo_reference': 'AcJnMuGaDkvMDA1_UwNhFhcCZBoovHJvf3Z3OD4q-A-feol9bKBPTNM3fxeyh8TgSenyMweQf5MuJU1tk194766yyOV0ohxwxV739h2dyK-CJodee_lqWhKhk6r2ilVhkxONuTdKmu2U_npB3_phafxy-D6VGoKpworTR0jTfsAlXtJBIM4g',\n",
       "   'width': 4032},\n",
       "  {'height': 3024,\n",
       "   'html_attributions': ['<a href=\"https://maps.google.com/maps/contrib/100332071033955381891\">佐野宏道</a>'],\n",
       "   'photo_reference': 'AcJnMuGwac5L-Wa5s8LWCUqW3y-_VVoWIG2qtju4VDjQHUv0FCHHEYWSo9lEyVQAxzssnXTw_nY874dc_IHhPGEDP29vGGdOSQa9154u1Wnx1cqo_5DJJMSsTb5lbNDuWP5lOF2rVjDUnSl-G2VIOJaJ5dxp7oZH4quk_YyKFC72VWbB6rpI',\n",
       "   'width': 4032},\n",
       "  {'height': 3024,\n",
       "   'html_attributions': ['<a href=\"https://maps.google.com/maps/contrib/114134503614103458101\">Yuki NAKAGAWA</a>'],\n",
       "   'photo_reference': 'AcJnMuHFON2ZoWDs-ZKPG9wxmsSwdINLijtRv-pp1XOuCrk8NVf-BNuREu0waqS2Vk7kZN3-QA7NPNj9FhLOJVynTI0OwTSLI37JyitjYeOg0-qRQWx2j1Li16ycK8L_30-Xbx9zJqLrytFKgGXM2Mte6lYtVZl6qYMQ38o0kK3IBMJ42BE',\n",
       "   'width': 4032}],\n",
       " 'place_id': 'ChIJ4W9CCwUJAWARyauI6BzKiiU',\n",
       " 'plus_code': {'compound_code': '2QGX+R7 Kyoto, Japan',\n",
       "  'global_code': '8Q7Q2QGX+R7'},\n",
       " 'rating': 4.5,\n",
       " 'reference': 'ChIJ4W9CCwUJAWARyauI6BzKiiU',\n",
       " 'reviews': [{'author_name': 'Paul Hedges',\n",
       "   'author_url': 'https://www.google.com/maps/contrib/113885203271885022716/reviews',\n",
       "   'language': 'en',\n",
       "   'original_language': 'en',\n",
       "   'profile_photo_url': 'https://lh3.googleusercontent.com/a-/ALV-UjWfIhh-47Xk25ikL6U9VdW46l7IPY606tu50n_1SfjADA=s128-c0x00000000-cc-rp-mo',\n",
       "   'rating': 5,\n",
       "   'relative_time_description': 'a month ago',\n",
       "   'text': 'For some, the poor relation of the golden temple, but for my money this wins hands down. Not showy, but subtle. Its moss garden is sublime, and the best Japanese garden I have seen. Its sand garden is surprising. A real air of peace and calm.',\n",
       "   'time': 1694784917,\n",
       "   'translated': False},\n",
       "  {'author_name': 'Giulia Zamuner',\n",
       "   'author_url': 'https://www.google.com/maps/contrib/101399457193724501319/reviews',\n",
       "   'language': 'en',\n",
       "   'original_language': 'en',\n",
       "   'profile_photo_url': 'https://lh3.googleusercontent.com/a-/ALV-UjV9_nK3BQicwudhmXXONKAySw6t8FYEVnRAfBfENq3aUfY=s128-c0x00000000-cc-rp-mo',\n",
       "   'rating': 5,\n",
       "   'relative_time_description': '2 weeks ago',\n",
       "   'text': 'If you want to escape from the crowd, this Buddhist Temple is the best place to go (I’d suggest to go early and during the week to avoid the queue).\\n\\nWorth the ticket, you will find your own piece walking through the garden, amazed by nature, flowers and of course, lots of culture!',\n",
       "   'time': 1696930712,\n",
       "   'translated': False},\n",
       "  {'author_name': 'Douglas Seah',\n",
       "   'author_url': 'https://www.google.com/maps/contrib/107477715700835137855/reviews',\n",
       "   'language': 'en',\n",
       "   'original_language': 'en',\n",
       "   'profile_photo_url': 'https://lh3.googleusercontent.com/a-/ALV-UjWqw_8MpEZpa5M7lh9MtNR0wBsNmlmYHZ3PenFr2QSDFFQ=s128-c0x00000000-cc-rp-mo-ba6',\n",
       "   'rating': 5,\n",
       "   'relative_time_description': '3 months ago',\n",
       "   'text': 'The silver pavilion is stunning. Less crowded than the golden pavilion but has much to offer. It’s located along the Philosopher’s path. A massive and calming garden. Definitely worth a visit.',\n",
       "   'time': 1688647146,\n",
       "   'translated': False},\n",
       "  {'author_name': 'Clément Pedoussaud',\n",
       "   'author_url': 'https://www.google.com/maps/contrib/115163815629682461198/reviews',\n",
       "   'language': 'en',\n",
       "   'original_language': 'en',\n",
       "   'profile_photo_url': 'https://lh3.googleusercontent.com/a-/ALV-UjWmmMgOw-IhAv5AlqO1U6t2J0huK4eDJK_9yyJZFRgSdUQ=s128-c0x00000000-cc-rp-mo-ba6',\n",
       "   'rating': 5,\n",
       "   'relative_time_description': '2 months ago',\n",
       "   'text': 'The temple is a must-visit for only 500Y. (Stamps of Temple is available for an additional 300Y)\\nThe visit takes about 30-40 minutes and is mainly about wandering is the beautiful temple zen garden, where you will get the chance to see many species, got a nice view of Kyoto, and get a view on different angle of the Silver Pavillon.',\n",
       "   'time': 1692228242,\n",
       "   'translated': False},\n",
       "  {'author_name': 'Angus Russell',\n",
       "   'author_url': 'https://www.google.com/maps/contrib/113883797683564689829/reviews',\n",
       "   'language': 'en',\n",
       "   'original_language': 'en',\n",
       "   'profile_photo_url': 'https://lh3.googleusercontent.com/a/ACg8ocJKsP0yxGSNZh9ksE-cZrod1XOLOrK_6dc8578ekzJs=s128-c0x00000000-cc-rp-mo',\n",
       "   'rating': 5,\n",
       "   'relative_time_description': 'a month ago',\n",
       "   'text': 'What a truly gorgeous place and is a must visit on your Kyoto itinerary. Breathtaking gardens that are so well-maintained and it really feels like your 500 yen entrance fee is being paid for the immaculate up keeping of the place. One of our entire Japan highlights!',\n",
       "   'time': 1694435567,\n",
       "   'translated': False}],\n",
       " 'types': ['tourist_attraction',\n",
       "  'place_of_worship',\n",
       "  'point_of_interest',\n",
       "  'establishment'],\n",
       " 'url': 'https://maps.google.com/?cid=2705196751698570185',\n",
       " 'user_ratings_total': 12366,\n",
       " 'utc_offset': 540,\n",
       " 'vicinity': '2 Ginkakujichō, Sakyo Ward, Kyoto',\n",
       " 'website': 'http://www.shokoku-ji.jp/g_about.html'}"
      ]
     },
     "execution_count": 8,
     "metadata": {},
     "output_type": "execute_result"
    }
   ],
   "source": [
    "res1[\"result\"]"
   ]
  },
  {
   "cell_type": "code",
   "execution_count": 5,
   "metadata": {},
   "outputs": [],
   "source": [
    "df = pd.read_csv(\"./in.csv\")"
   ]
  },
  {
   "cell_type": "code",
   "execution_count": 6,
   "metadata": {},
   "outputs": [],
   "source": [
    "spots = df[\"place\"].tolist()\n",
    "arrive_before = df[\"arrive_before\"].tolist()\n",
    "arrive_after = df[\"arrive_after\"].tolist()\n",
    "duration = df[\"duration\"].tolist()"
   ]
  },
  {
   "cell_type": "code",
   "execution_count": 7,
   "metadata": {},
   "outputs": [],
   "source": [
    "d_matrix = gmap.distance_matrix(origins=spots, destinations=spots)"
   ]
  },
  {
   "cell_type": "code",
   "execution_count": 8,
   "metadata": {},
   "outputs": [],
   "source": [
    "dist = [[row[\"elements\"][i][\"duration\"][\"value\"]/60 for i in range(len(d_matrix[\"rows\"]))] for row in d_matrix[\"rows\"]]"
   ]
  },
  {
   "cell_type": "code",
   "execution_count": 9,
   "metadata": {},
   "outputs": [],
   "source": [
    "with open(\"in.txt\", \"w\") as f:\n",
    "    print(len(dist), file=f)\n",
    "    print(*[\" \".join([str(d) for d in di]) for di in dist], sep=\"\\n\", file=f)\n",
    "    for ab, aa, du in zip(arrive_before, arrive_after, duration):\n",
    "        print(ab, aa, du, file=f)"
   ]
  },
  {
   "cell_type": "code",
   "execution_count": 96,
   "metadata": {},
   "outputs": [],
   "source": [
    "res = subprocess.run(\"./dist/bitdp < in.txt\", shell=True, stdout=subprocess.PIPE, stderr=subprocess.PIPE)"
   ]
  },
  {
   "cell_type": "code",
   "execution_count": 97,
   "metadata": {},
   "outputs": [],
   "source": [
    "lines = res.stdout.decode(\"utf-8\").split(\"\\n\")\n",
    "sec = int(lines[0])\n",
    "route = list(map(lambda x: float(x), lines[1].split()))"
   ]
  },
  {
   "cell_type": "code",
   "execution_count": 98,
   "metadata": {},
   "outputs": [
    {
     "name": "stdout",
     "output_type": "stream",
     "text": [
      "51m 4s\n",
      "route:\n",
      "京都大学吉田キャンパス\n",
      "平安神宮\n",
      "岡崎神社\n",
      "南禅寺\n",
      "永観堂\n",
      "哲学の道\n",
      "銀閣寺\n",
      "吉田神社\n",
      "京都御苑\n",
      "下鴨神社\n",
      "京都大学吉田キャンパス\n"
     ]
    }
   ],
   "source": [
    "print(f\"{sec//60}m {sec%60}s\")\n",
    "print(\"route:\")\n",
    "for i in route:\n",
    "    print(spots[i])"
   ]
  },
  {
   "cell_type": "code",
   "execution_count": null,
   "metadata": {},
   "outputs": [],
   "source": []
  }
 ],
 "metadata": {
  "kernelspec": {
   "display_name": "Python 3",
   "language": "python",
   "name": "python3"
  },
  "language_info": {
   "codemirror_mode": {
    "name": "ipython",
    "version": 3
   },
   "file_extension": ".py",
   "mimetype": "text/x-python",
   "name": "python",
   "nbconvert_exporter": "python",
   "pygments_lexer": "ipython3",
   "version": "3.10.13"
  }
 },
 "nbformat": 4,
 "nbformat_minor": 2
}
