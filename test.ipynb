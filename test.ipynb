{
 "cells": [
  {
   "cell_type": "markdown",
   "metadata": {},
   "source": [
    "# 概要\n",
    "これは落書き用のノートブックです\n",
    "\n",
    "# 使い方\n",
    "- 試したいことをこのノートブックに書く\n",
    "- 残しておきたいことはこのブックからコピーして別ファイルを作成する"
   ]
  },
  {
   "cell_type": "markdown",
   "metadata": {},
   "source": [
    "# GoogleMapsのAPI使ってみた\n",
    "- 場所の詳細情報をゲットするには`gmap.palces`で`place_id`を手に入れてから、`gmap.place`に`place_id`を渡す"
   ]
  },
  {
   "cell_type": "code",
   "execution_count": 3,
   "metadata": {},
   "outputs": [
    {
     "name": "stdout",
     "output_type": "stream",
     "text": [
      "\u001b[33mWARNING: Ignoring invalid distribution -ip (/opt/homebrew/lib/python3.10/site-packages)\u001b[0m\u001b[33m\n",
      "\u001b[0mCollecting googlemaps\n",
      "  Using cached googlemaps-4.10.0.tar.gz (33 kB)\n",
      "  Installing build dependencies ... \u001b[?25ldone\n",
      "\u001b[?25h  Getting requirements to build wheel ... \u001b[?25ldone\n",
      "\u001b[?25h  Installing backend dependencies ... \u001b[?25ldone\n",
      "\u001b[?25h  Preparing metadata (pyproject.toml) ... \u001b[?25ldone\n",
      "\u001b[?25hRequirement already satisfied: requests<3.0,>=2.20.0 in /opt/homebrew/lib/python3.10/site-packages (from googlemaps) (2.26.0)\n",
      "Requirement already satisfied: urllib3<1.27,>=1.21.1 in /opt/homebrew/lib/python3.10/site-packages (from requests<3.0,>=2.20.0->googlemaps) (1.26.7)\n",
      "Requirement already satisfied: certifi>=2017.4.17 in /opt/homebrew/lib/python3.10/site-packages (from requests<3.0,>=2.20.0->googlemaps) (2022.12.7)\n",
      "Requirement already satisfied: charset-normalizer~=2.0.0 in /opt/homebrew/lib/python3.10/site-packages (from requests<3.0,>=2.20.0->googlemaps) (2.0.12)\n",
      "Requirement already satisfied: idna<4,>=2.5 in /opt/homebrew/lib/python3.10/site-packages (from requests<3.0,>=2.20.0->googlemaps) (3.4)\n",
      "Building wheels for collected packages: googlemaps\n",
      "  Building wheel for googlemaps (pyproject.toml) ... \u001b[?25ldone\n",
      "\u001b[?25h  Created wheel for googlemaps: filename=googlemaps-4.10.0-py3-none-any.whl size=40713 sha256=248f5a17e30e1c6e73415d62188317796db8ef644843da808c28c1572ec811c2\n",
      "  Stored in directory: /Users/OgawaAyumu/Library/Caches/pip/wheels/17/f8/79/999d5d37118fd35d7219ef57933eb9d09886c4c4503a800f84\n",
      "Successfully built googlemaps\n",
      "\u001b[33mWARNING: Ignoring invalid distribution -ip (/opt/homebrew/lib/python3.10/site-packages)\u001b[0m\u001b[33m\n",
      "\u001b[0mInstalling collected packages: googlemaps\n",
      "Successfully installed googlemaps-4.10.0\n"
     ]
    }
   ],
   "source": [
    "!pip install --use-pep517 googlemaps"
   ]
  },
  {
   "cell_type": "code",
   "execution_count": 40,
   "metadata": {},
   "outputs": [],
   "source": [
    "import googlemaps\n",
    "import dotenv\n",
    "import os\n",
    "import subprocess"
   ]
  },
  {
   "cell_type": "code",
   "execution_count": 2,
   "metadata": {},
   "outputs": [
    {
     "data": {
      "text/plain": [
       "True"
      ]
     },
     "execution_count": 2,
     "metadata": {},
     "output_type": "execute_result"
    }
   ],
   "source": [
    "dotenv.load_dotenv()"
   ]
  },
  {
   "cell_type": "code",
   "execution_count": 3,
   "metadata": {},
   "outputs": [],
   "source": [
    "GOOGLE_MAPS_API_KEY = os.getenv(\"GOOGLE_MAPS_API_KEY\")\n",
    "if not GOOGLE_MAPS_API_KEY:\n",
    "    raise Exception(\"GOOGLE_MAPS_API_KEY not found\")"
   ]
  },
  {
   "cell_type": "code",
   "execution_count": 4,
   "metadata": {},
   "outputs": [],
   "source": [
    "gmap = googlemaps.Client(key=GOOGLE_MAPS_API_KEY)"
   ]
  },
  {
   "cell_type": "code",
   "execution_count": 21,
   "metadata": {},
   "outputs": [],
   "source": [
    "res = gmap.places(\"慈照寺\")"
   ]
  },
  {
   "cell_type": "code",
   "execution_count": 22,
   "metadata": {},
   "outputs": [
    {
     "data": {
      "text/plain": [
       "'ChIJ4W9CCwUJAWARyauI6BzKiiU'"
      ]
     },
     "execution_count": 22,
     "metadata": {},
     "output_type": "execute_result"
    }
   ],
   "source": [
    "res[\"results\"][0][\"place_id\"]"
   ]
  },
  {
   "cell_type": "code",
   "execution_count": 23,
   "metadata": {},
   "outputs": [],
   "source": [
    "res1 = gmap.place(res[\"results\"][0][\"place_id\"])"
   ]
  },
  {
   "cell_type": "code",
   "execution_count": 24,
   "metadata": {},
   "outputs": [
    {
     "data": {
      "text/plain": [
       "{'address_components': [{'long_name': '2',\n",
       "   'short_name': '2',\n",
       "   'types': ['premise']},\n",
       "  {'long_name': 'Ginkakujichō',\n",
       "   'short_name': 'Ginkakujichō',\n",
       "   'types': ['sublocality_level_2', 'sublocality', 'political']},\n",
       "  {'long_name': 'Sakyo Ward',\n",
       "   'short_name': 'Sakyo Ward',\n",
       "   'types': ['sublocality_level_1', 'sublocality', 'political']},\n",
       "  {'long_name': 'Kyoto',\n",
       "   'short_name': 'Kyoto',\n",
       "   'types': ['locality', 'political']},\n",
       "  {'long_name': 'Kyoto',\n",
       "   'short_name': 'Kyoto',\n",
       "   'types': ['administrative_area_level_1', 'political']},\n",
       "  {'long_name': 'Japan',\n",
       "   'short_name': 'JP',\n",
       "   'types': ['country', 'political']},\n",
       "  {'long_name': '606-8402',\n",
       "   'short_name': '606-8402',\n",
       "   'types': ['postal_code']}],\n",
       " 'adr_address': '<span class=\"street-address\">2 Ginkakujichō, Sakyo Ward, Kyoto</span>, <span class=\"postal-code\">606-8402</span>, <span class=\"country-name\">Japan</span>',\n",
       " 'business_status': 'OPERATIONAL',\n",
       " 'current_opening_hours': {'open_now': True,\n",
       "  'periods': [{'close': {'date': '2023-10-22', 'day': 0, 'time': '1700'},\n",
       "    'open': {'date': '2023-10-22', 'day': 0, 'time': '0830'}},\n",
       "   {'close': {'date': '2023-10-23', 'day': 1, 'time': '1700'},\n",
       "    'open': {'date': '2023-10-23', 'day': 1, 'time': '0830'}},\n",
       "   {'close': {'date': '2023-10-24', 'day': 2, 'time': '1700'},\n",
       "    'open': {'date': '2023-10-24', 'day': 2, 'time': '0830'}},\n",
       "   {'close': {'date': '2023-10-18', 'day': 3, 'time': '1700'},\n",
       "    'open': {'date': '2023-10-18', 'day': 3, 'time': '0830'}},\n",
       "   {'close': {'date': '2023-10-19', 'day': 4, 'time': '1700'},\n",
       "    'open': {'date': '2023-10-19', 'day': 4, 'time': '0830'}},\n",
       "   {'close': {'date': '2023-10-20', 'day': 5, 'time': '1700'},\n",
       "    'open': {'date': '2023-10-20', 'day': 5, 'time': '0830'}},\n",
       "   {'close': {'date': '2023-10-21', 'day': 6, 'time': '1700'},\n",
       "    'open': {'date': '2023-10-21', 'day': 6, 'time': '0830'}}],\n",
       "  'weekday_text': ['Monday: 8:30\\u202fAM\\u2009–\\u20095:00\\u202fPM',\n",
       "   'Tuesday: 8:30\\u202fAM\\u2009–\\u20095:00\\u202fPM',\n",
       "   'Wednesday: 8:30\\u202fAM\\u2009–\\u20095:00\\u202fPM',\n",
       "   'Thursday: 8:30\\u202fAM\\u2009–\\u20095:00\\u202fPM',\n",
       "   'Friday: 8:30\\u202fAM\\u2009–\\u20095:00\\u202fPM',\n",
       "   'Saturday: 8:30\\u202fAM\\u2009–\\u20095:00\\u202fPM',\n",
       "   'Sunday: 8:30\\u202fAM\\u2009–\\u20095:00\\u202fPM']},\n",
       " 'editorial_summary': {'language': 'en',\n",
       "  'overview': 'This 15th-century Zen temple features picturesque gardens & a sand mound shaped like Mount Fuji.'},\n",
       " 'formatted_address': '2 Ginkakujichō, Sakyo Ward, Kyoto, 606-8402, Japan',\n",
       " 'formatted_phone_number': '075-771-5725',\n",
       " 'geometry': {'location': {'lat': 35.0270213, 'lng': 135.7982058},\n",
       "  'viewport': {'northeast': {'lat': 35.02843093029151,\n",
       "    'lng': 135.7991009802915},\n",
       "   'southwest': {'lat': 35.02573296970851, 'lng': 135.7964030197085}}},\n",
       " 'icon': 'https://maps.gstatic.com/mapfiles/place_api/icons/v1/png_71/worship_dharma-71.png',\n",
       " 'icon_background_color': '#7B9EB0',\n",
       " 'icon_mask_base_uri': 'https://maps.gstatic.com/mapfiles/place_api/icons/v2/generic_pinlet',\n",
       " 'international_phone_number': '+81 75-771-5725',\n",
       " 'name': 'Higashiyama Jisho-ji',\n",
       " 'opening_hours': {'open_now': True,\n",
       "  'periods': [{'close': {'day': 0, 'time': '1700'},\n",
       "    'open': {'day': 0, 'time': '0830'}},\n",
       "   {'close': {'day': 1, 'time': '1700'}, 'open': {'day': 1, 'time': '0830'}},\n",
       "   {'close': {'day': 2, 'time': '1700'}, 'open': {'day': 2, 'time': '0830'}},\n",
       "   {'close': {'day': 3, 'time': '1700'}, 'open': {'day': 3, 'time': '0830'}},\n",
       "   {'close': {'day': 4, 'time': '1700'}, 'open': {'day': 4, 'time': '0830'}},\n",
       "   {'close': {'day': 5, 'time': '1700'}, 'open': {'day': 5, 'time': '0830'}},\n",
       "   {'close': {'day': 6, 'time': '1700'}, 'open': {'day': 6, 'time': '0830'}}],\n",
       "  'weekday_text': ['Monday: 8:30\\u202fAM\\u2009–\\u20095:00\\u202fPM',\n",
       "   'Tuesday: 8:30\\u202fAM\\u2009–\\u20095:00\\u202fPM',\n",
       "   'Wednesday: 8:30\\u202fAM\\u2009–\\u20095:00\\u202fPM',\n",
       "   'Thursday: 8:30\\u202fAM\\u2009–\\u20095:00\\u202fPM',\n",
       "   'Friday: 8:30\\u202fAM\\u2009–\\u20095:00\\u202fPM',\n",
       "   'Saturday: 8:30\\u202fAM\\u2009–\\u20095:00\\u202fPM',\n",
       "   'Sunday: 8:30\\u202fAM\\u2009–\\u20095:00\\u202fPM']},\n",
       " 'photos': [{'height': 3024,\n",
       "   'html_attributions': ['<a href=\"https://maps.google.com/maps/contrib/103137019633177730408\">Gyoupon</a>'],\n",
       "   'photo_reference': 'AcJnMuGgEn5m1T80YcMTVFx95oyv4GNm8h-H8hKsfLEz2nhw7flJhuywbQLBAjjfWG0nZ2g9wIAA_PjuD35HdWZg0GdYS9awW8jbGxcm-XW6_B50Hd_dr13N6Bmqj4OrtErwcuyMiLo8_OtM9d2BM5ht7ZseQu9GJvFVZOkUVETLy5wjpvbA',\n",
       "   'width': 4032},\n",
       "  {'height': 3000,\n",
       "   'html_attributions': ['<a href=\"https://maps.google.com/maps/contrib/114709437760824110649\">Jake Zoucha</a>'],\n",
       "   'photo_reference': 'AcJnMuFMuC_F7BsoxAvQa7zZbWnYi8xIbDKdLu-3JmGRNo44I2PI8SJBwFZV2Zv1wnFkB1OjTMYCW7hcEhssoGbiFCFsoZzVdP0gflrOBTLNGDr9w4QbbYjFDBtvvsPxxitTJI1WaC465nin-L3oAKsYs9xpCWRaYweZupmXh40oKcMqJqq3',\n",
       "   'width': 4000},\n",
       "  {'height': 2304,\n",
       "   'html_attributions': ['<a href=\"https://maps.google.com/maps/contrib/112161464324098132449\">Pif Gadget</a>'],\n",
       "   'photo_reference': 'AcJnMuFnj0cBF8n8ksHDZ40Omx5p5ottpQw50qpmLOtdcoUB398gHcr-NZwm4raIHj0FUNiR1_glpFyM2ZbJCqoIh1JpKpCEPZTFXPBTRNYJgNfRJ7TcbhGekPk5tB02cPf1-F5fi44dp2XZspt8J39MrZ-lIPqEn_BpUvRxXXCiIN8g4IUH',\n",
       "   'width': 3456},\n",
       "  {'height': 408,\n",
       "   'html_attributions': ['<a href=\"https://maps.google.com/maps/contrib/109944547308787941937\">Maurício Pereira Da Silva Moura</a>'],\n",
       "   'photo_reference': 'AcJnMuGSo9_UhBEtS-lFX-gAnKBOQh31uvH-0_KJBa-CAgqzOcHybISLVjSIvSfOzSyg3hCmlbZi-n5Un5-AxPzfS_47kxY0fQTh4HDtiFl4NW7AvKkcwKVgV45BuGUZ0dPA-uurgaftOYUAQdg7743CeOJfAqxUI3BQdoMOTO3dhOs80NpJ',\n",
       "   'width': 612},\n",
       "  {'height': 3000,\n",
       "   'html_attributions': ['<a href=\"https://maps.google.com/maps/contrib/103434063710220010892\">Tomoko Leeper</a>'],\n",
       "   'photo_reference': 'AcJnMuGNxdGbRk5PIjg4qaGgpspOgxektvspZ4UjNnzSG3nLgIQ-isWBfXbjYqD7P51r9ei3Csz4vzzmWuBInFTB9P7Auq9Ea_LMIACX5i3qFNRhgTr4ECevI-JozwDGZbZaKM45EXMQA8Z4GR3jPUnlTuVFjpTZ8Cofpsyz8We95kNWngLo',\n",
       "   'width': 4000},\n",
       "  {'height': 2448,\n",
       "   'html_attributions': ['<a href=\"https://maps.google.com/maps/contrib/111513329371077560331\">橘宏和</a>'],\n",
       "   'photo_reference': 'AcJnMuFj0LhDmvLQLRiOk85w5f9fyXCAHsLMv2X3PhdUDfGQ8zgf5R93DyLRu34y0HZtIzXMOGoW0OaGB9dG52EZnGEWe1CVbfo6ynmdJEivviKj0gFOKyOChSoMrDdm-B3gxp3kM1NTqle71ZNxwGj7vBti3OoBZgWFO6yUui15pW722w7n',\n",
       "   'width': 3264},\n",
       "  {'height': 3024,\n",
       "   'html_attributions': ['<a href=\"https://maps.google.com/maps/contrib/107567119966385605014\">Tohru Miyake</a>'],\n",
       "   'photo_reference': 'AcJnMuEJLGTuk2oE16_U-r2KYv07Xr27KpZEs0xu0HBFMxZDV_sVer3F0NGWRsNG6XuGiMZMWOf9ywepuxfFeOH6CLt9a6iwLCQZVz1hp7a30XYTCMzWvBuUzvzv2so8NF12QW2BweQA7sqWQTcPSRf8IRqu0yO2lMPXns1y30X2x5h0fHbW',\n",
       "   'width': 4032},\n",
       "  {'height': 3024,\n",
       "   'html_attributions': ['<a href=\"https://maps.google.com/maps/contrib/100332071033955381891\">佐野宏道</a>'],\n",
       "   'photo_reference': 'AcJnMuHyxhi2mrVvOVByKw3AqMn8i1fT1xczsZmViuAgeTOB-riTTQOjPjNn7UEAamBGSBLcakD_bE3AIgDTUs2PMzSlUO_E2b8ZxknYAzQ2XS73x4AJ6Oo6Y7eF6ibB6DtcGoomaTid3HRX_PqMVGm5zcVB-5x1dGNsFcPcoegpMl2ajz78',\n",
       "   'width': 4032},\n",
       "  {'height': 3072,\n",
       "   'html_attributions': ['<a href=\"https://maps.google.com/maps/contrib/117711890026589271066\">Ivo Meixner</a>'],\n",
       "   'photo_reference': 'AcJnMuGyIh_D3RG74WclB2EUldoCgKfyusrO8MUXXPUMPioX3ybt28myW_Rw9uj84UaF5vCuGsQ8FtyVjajlreC_bMHIdusSq04EhUSUdWlkQoyaqsmxB3VUosU9Yha0yq6w4FSxwKGwHYIAyhg52pKscvnabtOvi7KiR8Ezv20bpP2F8n0_',\n",
       "   'width': 4080},\n",
       "  {'height': 6944,\n",
       "   'html_attributions': ['<a href=\"https://maps.google.com/maps/contrib/102484091091854877409\">Vu Nguyen</a>'],\n",
       "   'photo_reference': 'AcJnMuHKCgSUafSpIypPFquDe39uDqga7CrKcTYd7US0kwzkUsBOI1Rh0-bUsxwwlYbaET8gZAigpSB7g41gcORfRFhk7NenUEI2BRRp29DeJDRpdDV9C4pitZxnlmeBQLpWN7ZO6zThBDz1_3B1t6jBCMtim7XRNUS3URY5DT0q8kqbJQBx',\n",
       "   'width': 9280}],\n",
       " 'place_id': 'ChIJ4W9CCwUJAWARyauI6BzKiiU',\n",
       " 'plus_code': {'compound_code': '2QGX+R7 Kyoto, Japan',\n",
       "  'global_code': '8Q7Q2QGX+R7'},\n",
       " 'rating': 4.5,\n",
       " 'reference': 'ChIJ4W9CCwUJAWARyauI6BzKiiU',\n",
       " 'reviews': [{'author_name': 'Paul Hedges',\n",
       "   'author_url': 'https://www.google.com/maps/contrib/113885203271885022716/reviews',\n",
       "   'language': 'en',\n",
       "   'original_language': 'en',\n",
       "   'profile_photo_url': 'https://lh3.googleusercontent.com/a-/ALV-UjWfIhh-47Xk25ikL6U9VdW46l7IPY606tu50n_1SfjADA=s128-c0x00000000-cc-rp-mo',\n",
       "   'rating': 5,\n",
       "   'relative_time_description': 'a month ago',\n",
       "   'text': 'For some, the poor relation of the golden temple, but for my money this wins hands down. Not showy, but subtle. Its moss garden is sublime, and the best Japanese garden I have seen. Its sand garden is surprising. A real air of peace and calm.',\n",
       "   'time': 1694784917,\n",
       "   'translated': False},\n",
       "  {'author_name': 'Mariela Seijas',\n",
       "   'author_url': 'https://www.google.com/maps/contrib/106515761228043096709/reviews',\n",
       "   'language': 'en',\n",
       "   'original_language': 'en',\n",
       "   'profile_photo_url': 'https://lh3.googleusercontent.com/a/ACg8ocLySIGVglefeSgAdow24YwGEhGiUynL_uSMR8OKklfx=s128-c0x00000000-cc-rp-mo',\n",
       "   'rating': 5,\n",
       "   'relative_time_description': 'a week ago',\n",
       "   'text': 'Lovely grounds. As many have said, it is less crowded (and more interesting, in my opinion) than Kinkakuji. There’s lots of shops on the walk up to the pavilion. It also smells great, they sell the incense at the gift shop.',\n",
       "   'time': 1696916902,\n",
       "   'translated': False},\n",
       "  {'author_name': 'Douglas Seah',\n",
       "   'author_url': 'https://www.google.com/maps/contrib/107477715700835137855/reviews',\n",
       "   'language': 'en',\n",
       "   'original_language': 'en',\n",
       "   'profile_photo_url': 'https://lh3.googleusercontent.com/a-/ALV-UjWqw_8MpEZpa5M7lh9MtNR0wBsNmlmYHZ3PenFr2QSDFFQ=s128-c0x00000000-cc-rp-mo-ba6',\n",
       "   'rating': 5,\n",
       "   'relative_time_description': '3 months ago',\n",
       "   'text': 'The silver pavilion is stunning. Less crowded than the golden pavilion but has much to offer. It’s located along the Philosopher’s path. A massive and calming garden. Definitely worth a visit.',\n",
       "   'time': 1688647146,\n",
       "   'translated': False},\n",
       "  {'author_name': 'Clément Pedoussaud',\n",
       "   'author_url': 'https://www.google.com/maps/contrib/115163815629682461198/reviews',\n",
       "   'language': 'en',\n",
       "   'original_language': 'en',\n",
       "   'profile_photo_url': 'https://lh3.googleusercontent.com/a-/ALV-UjWmmMgOw-IhAv5AlqO1U6t2J0huK4eDJK_9yyJZFRgSdUQ=s128-c0x00000000-cc-rp-mo-ba6',\n",
       "   'rating': 5,\n",
       "   'relative_time_description': '2 months ago',\n",
       "   'text': 'The temple is a must-visit for only 500Y. (Stamps of Temple is available for an additional 300Y)\\nThe visit takes about 30-40 minutes and is mainly about wandering is the beautiful temple zen garden, where you will get the chance to see many species, got a nice view of Kyoto, and get a view on different angle of the Silver Pavillon.',\n",
       "   'time': 1692228242,\n",
       "   'translated': False},\n",
       "  {'author_name': 'Angus Russell',\n",
       "   'author_url': 'https://www.google.com/maps/contrib/113883797683564689829/reviews',\n",
       "   'language': 'en',\n",
       "   'original_language': 'en',\n",
       "   'profile_photo_url': 'https://lh3.googleusercontent.com/a/ACg8ocJKsP0yxGSNZh9ksE-cZrod1XOLOrK_6dc8578ekzJs=s128-c0x00000000-cc-rp-mo',\n",
       "   'rating': 5,\n",
       "   'relative_time_description': 'a month ago',\n",
       "   'text': 'What a truly gorgeous place and is a must visit on your Kyoto itinerary. Breathtaking gardens that are so well-maintained and it really feels like your 500 yen entrance fee is being paid for the immaculate up keeping of the place. One of our entire Japan highlights!',\n",
       "   'time': 1694435567,\n",
       "   'translated': False}],\n",
       " 'types': ['tourist_attraction',\n",
       "  'place_of_worship',\n",
       "  'point_of_interest',\n",
       "  'establishment'],\n",
       " 'url': 'https://maps.google.com/?cid=2705196751698570185',\n",
       " 'user_ratings_total': 12306,\n",
       " 'utc_offset': 540,\n",
       " 'vicinity': '2 Ginkakujichō, Sakyo Ward, Kyoto',\n",
       " 'website': 'http://www.shokoku-ji.jp/g_about.html'}"
      ]
     },
     "execution_count": 24,
     "metadata": {},
     "output_type": "execute_result"
    }
   ],
   "source": [
    "res1[\"result\"]"
   ]
  },
  {
   "cell_type": "code",
   "execution_count": 81,
   "metadata": {},
   "outputs": [],
   "source": [
    "spots = [\"京都大学吉田キャンパス\", \"吉田神社\", \"銀閣寺\", \"哲学の道\", \"南禅寺\", \"岡崎神社\", \"平安神宮\", \"永観堂\", \"下鴨神社\", \"京都御苑\"]"
   ]
  },
  {
   "cell_type": "code",
   "execution_count": 82,
   "metadata": {},
   "outputs": [],
   "source": [
    "d_matrix = gmap.distance_matrix(origins=spots,destinations=spots)"
   ]
  },
  {
   "cell_type": "code",
   "execution_count": 83,
   "metadata": {},
   "outputs": [],
   "source": [
    "dist = [[row[\"elements\"][i][\"duration\"][\"value\"] for i in range(len(d_matrix[\"rows\"]))] for row in d_matrix[\"rows\"]]"
   ]
  },
  {
   "cell_type": "code",
   "execution_count": 84,
   "metadata": {},
   "outputs": [],
   "source": [
    "with open(\"dist.txt\", \"w\") as f:\n",
    "    f.write(f\"{len(dist)}\\n\"+\"\\n\".join([\" \".join([str(d) for d in di]) for di in dist]))"
   ]
  },
  {
   "cell_type": "code",
   "execution_count": 85,
   "metadata": {},
   "outputs": [],
   "source": [
    "res = subprocess.run(\"./dist/bitdp < dist.txt\", shell=True, stdout=subprocess.PIPE, stderr=subprocess.PIPE)"
   ]
  },
  {
   "cell_type": "code",
   "execution_count": 86,
   "metadata": {},
   "outputs": [],
   "source": [
    "lines = res.stdout.decode(\"utf-8\").split(\"\\n\")\n",
    "sec = int(lines[0])\n",
    "route = list(map(int, lines[1].split()))"
   ]
  },
  {
   "cell_type": "code",
   "execution_count": 88,
   "metadata": {},
   "outputs": [
    {
     "name": "stdout",
     "output_type": "stream",
     "text": [
      "51m 4s\n",
      "route:\n",
      "京都大学吉田キャンパス\n",
      "平安神宮\n",
      "岡崎神社\n",
      "南禅寺\n",
      "永観堂\n",
      "哲学の道\n",
      "銀閣寺\n",
      "吉田神社\n",
      "京都御苑\n",
      "下鴨神社\n",
      "京都大学吉田キャンパス\n"
     ]
    }
   ],
   "source": [
    "print(f\"{sec//60}m {sec%60}s\")\n",
    "print(\"route:\")\n",
    "for i in route:\n",
    "    print(spots[i])"
   ]
  },
  {
   "cell_type": "code",
   "execution_count": null,
   "metadata": {},
   "outputs": [],
   "source": []
  }
 ],
 "metadata": {
  "kernelspec": {
   "display_name": "Python 3",
   "language": "python",
   "name": "python3"
  },
  "language_info": {
   "codemirror_mode": {
    "name": "ipython",
    "version": 3
   },
   "file_extension": ".py",
   "mimetype": "text/x-python",
   "name": "python",
   "nbconvert_exporter": "python",
   "pygments_lexer": "ipython3",
   "version": "3.10.13"
  }
 },
 "nbformat": 4,
 "nbformat_minor": 2
}
